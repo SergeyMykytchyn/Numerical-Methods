{
 "cells": [
  {
   "cell_type": "code",
   "execution_count": 1,
   "metadata": {},
   "outputs": [],
   "source": [
    "import numpy as np\n",
    "import matplotlib.pyplot as plt"
   ]
  },
  {
   "cell_type": "code",
   "execution_count": 2,
   "metadata": {},
   "outputs": [],
   "source": [
    "def f(x):\n",
    "    return x**4 + 4*x - 2"
   ]
  },
  {
   "cell_type": "code",
   "execution_count": 3,
   "metadata": {},
   "outputs": [],
   "source": [
    "Xaxis = np.linspace(-2, 1, 100)"
   ]
  },
  {
   "cell_type": "code",
   "execution_count": 4,
   "metadata": {},
   "outputs": [
    {
     "data": {
      "image/png": "[encoded data removed]",
      "text/plain": [
       "<Figure size 432x288 with 1 Axes>"
      ]
     },
     "metadata": {
      "needs_background": "light"
     },
     "output_type": "display_data"
    }
   ],
   "source": [
    "plt.axhline(linestyle = '-', color = 'k')\n",
    "plt.axvline(linestyle = '-', color = 'k')\n",
    "p = plt.plot(Xaxis, f(Xaxis))\n",
    "plt.legend(['x^4 + 4x - 2'], loc='best')\n",
    "plt.show()"
   ]
  },
  {
   "cell_type": "code",
   "execution_count": 5,
   "metadata": {},
   "outputs": [],
   "source": [
    "def df(x):\n",
    "    return 4*x**3 + 4"
   ]
  },
  {
   "cell_type": "code",
   "execution_count": 6,
   "metadata": {},
   "outputs": [],
   "source": [
    "def minIt(z0, q, tol=1e-4):\n",
    "    return np.floor( np.log( np.log(z0/tol) / np.log(1/q) ) / np.log(2) + 1) + 1"
   ]
  },
  {
   "cell_type": "code",
   "execution_count": 7,
   "metadata": {},
   "outputs": [],
   "source": [
    "def newtonRaphson(x, tol=1e-4): \n",
    "    h = f(x) / df(x)\n",
    "    numIter = 0\n",
    "    while abs(h) >= tol: \n",
    "        h = f(x)/df(x) \n",
    "        numIter += 1 \n",
    "        # x(i+1) = x(i) - f(x) / f'(x) \n",
    "        x = x - h \n",
    "        print('x_{:}'.format(numIter), '=', x)\n",
    "        print('f(x_{:})'.format(numIter), '=', f(x), \"\\n\")\n",
    "    print(\"Number of iterations:\", numIter)\n",
    "    return x, numIter"
   ]
  },
  {
   "cell_type": "code",
   "execution_count": 8,
   "metadata": {},
   "outputs": [],
   "source": [
    "x1 = -1.7277535\n",
    "m1 = 9.5\n",
    "M1 = 38.88\n",
    "x0_1 = -1.8\n",
    "z0_1 = abs(x0_1 - x1)\n",
    "q1 = M1 * z0_1 / 2 / m1"
   ]
  },
  {
   "cell_type": "code",
   "execution_count": 9,
   "metadata": {},
   "outputs": [
    {
     "data": {
      "text/plain": [
       "-6.663958274089055e-09"
      ]
     },
     "execution_count": 9,
     "metadata": {},
     "output_type": "execute_result"
    }
   ],
   "source": [
    "f(x1)"
   ]
  },
  {
   "cell_type": "code",
   "execution_count": 10,
   "metadata": {},
   "outputs": [
    {
     "name": "stdout",
     "output_type": "stream",
     "text": [
      "x_1 = -1.7328642384105961\n",
      "f(x_1) = 0.08546180269779224 \n",
      "\n",
      "x_2 = -1.7277814338653879\n",
      "f(x_2) = 0.0004645555977749183 \n",
      "\n",
      "x_3 = -1.727753501241038\n",
      "f(x_3) = 1.39748665972661e-08 \n",
      "\n",
      "Number of iterations: 3\n"
     ]
    }
   ],
   "source": [
    "x1_ , n_1 = newtonRaphson(x0_1)\n",
    "x1_ = round(x1_, 7)"
   ]
  },
  {
   "cell_type": "code",
   "execution_count": 11,
   "metadata": {},
   "outputs": [
    {
     "data": {
      "text/plain": [
       "-1.7277535"
      ]
     },
     "execution_count": 11,
     "metadata": {},
     "output_type": "execute_result"
    }
   ],
   "source": [
    "x1_"
   ]
  },
  {
   "cell_type": "code",
   "execution_count": 12,
   "metadata": {},
   "outputs": [
    {
     "data": {
      "text/plain": [
       "-6.663958274089055e-09"
      ]
     },
     "execution_count": 12,
     "metadata": {},
     "output_type": "execute_result"
    }
   ],
   "source": [
    "f(x1_)"
   ]
  },
  {
   "cell_type": "code",
   "execution_count": 13,
   "metadata": {},
   "outputs": [
    {
     "name": "stdout",
     "output_type": "stream",
     "text": [
      "|z_n| = 0.0000000 <= 0.0000001 = q^(2^n - 1)*|z_0|\n"
     ]
    }
   ],
   "source": [
    "zn_1 = abs(x1_ - x1)\n",
    "print(\"|z_n| = {:.7f}\".format(zn_1), \"<= {:.7f}\".format(q1**(2**n_1 - 1) * z0_1), \"= q^(2^n - 1)*|z_0|\")"
   ]
  },
  {
   "cell_type": "code",
   "execution_count": 14,
   "metadata": {},
   "outputs": [
    {
     "name": "stdout",
     "output_type": "stream",
     "text": [
      "Expected number of iterations:  3.0\n",
      "Number of iterations that was done:  3\n"
     ]
    }
   ],
   "source": [
    "print(\"Expected number of iterations: \", minIt(z0_1, q1))\n",
    "print(\"Number of iterations that was done: \", n_1)"
   ]
  },
  {
   "cell_type": "code",
   "execution_count": 15,
   "metadata": {},
   "outputs": [],
   "source": [
    "x2 = 0.4860474\n",
    "m2 = 4\n",
    "M2 = 3\n",
    "x0_2 = 0\n",
    "z0_2 = abs(x0_2 - x2)\n",
    "q2 = M2 * z0_2 / 2 / m2"
   ]
  },
  {
   "cell_type": "code",
   "execution_count": 16,
   "metadata": {},
   "outputs": [
    {
     "name": "stdout",
     "output_type": "stream",
     "text": [
      "x_1 = 0.5\n",
      "f(x_1) = 0.0625 \n",
      "\n",
      "x_2 = 0.4861111111111111\n",
      "f(x_2) = 0.0002840306951110705 \n",
      "\n",
      "x_3 = 0.4860474196731896\n",
      "f(x_3) = 5.751041864954232e-09 \n",
      "\n",
      "Number of iterations: 3\n"
     ]
    }
   ],
   "source": [
    "x2_, n_2 = newtonRaphson(0)\n",
    "x2_ = round(x2_, 7)"
   ]
  },
  {
   "cell_type": "code",
   "execution_count": 17,
   "metadata": {},
   "outputs": [
    {
     "data": {
      "text/plain": [
       "0.4860474"
      ]
     },
     "execution_count": 17,
     "metadata": {},
     "output_type": "execute_result"
    }
   ],
   "source": [
    "x2_"
   ]
  },
  {
   "cell_type": "code",
   "execution_count": 18,
   "metadata": {},
   "outputs": [
    {
     "data": {
      "text/plain": [
       "-8.197760092976125e-08"
      ]
     },
     "execution_count": 18,
     "metadata": {},
     "output_type": "execute_result"
    }
   ],
   "source": [
    "f(x2_)"
   ]
  },
  {
   "cell_type": "code",
   "execution_count": 19,
   "metadata": {},
   "outputs": [
    {
     "name": "stdout",
     "output_type": "stream",
     "text": [
      "|z_n| = 0.0000000 <= 0.0000032 = q^(2^n - 1)*|z_0|\n"
     ]
    }
   ],
   "source": [
    "zn_2 = abs(x2_ - x2)\n",
    "print(\"|z_n| = {:.7f}\".format(zn_2), \"<= {:.7f}\".format(q2**(2**n_2 - 1) * z0_2), \"= q^(2^n - 1)*|z_0|\")"
   ]
  },
  {
   "cell_type": "code",
   "execution_count": 20,
   "metadata": {},
   "outputs": [
    {
     "name": "stdout",
     "output_type": "stream",
     "text": [
      "Expected number of iterations:  4.0\n",
      "Number of iterations that was done:  3\n"
     ]
    }
   ],
   "source": [
    "print(\"Expected number of iterations: \", minIt(z0_2, q2))\n",
    "print(\"Number of iterations that was done: \", n_2)"
   ]
  }
 ],
 "metadata": {
  "kernelspec": {
   "display_name": "Python 3",
   "language": "python",
   "name": "python3"
  },
  "language_info": {
   "codemirror_mode": {
    "name": "ipython",
    "version": 3
   },
   "file_extension": ".py",
   "mimetype": "text/x-python",
   "name": "python",
   "nbconvert_exporter": "python",
   "pygments_lexer": "ipython3",
   "version": "3.6.8"
  }
 },
 "nbformat": 4,
 "nbformat_minor": 2
}
